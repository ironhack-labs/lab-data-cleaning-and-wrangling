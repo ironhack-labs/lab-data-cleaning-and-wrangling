{
 "cells": [
  {
   "cell_type": "markdown",
   "id": "6fe244e7",
   "metadata": {},
   "source": [
    "Lab | Data cleaning and wrangling\n",
    "For this lab, we will be using the same dataset we used in the previous labs. We recommend using the same notebook since you will be reusing the same variables you previous created and used in labs.\n",
    "\n",
    "Instructions\n",
    "So far we have worked on EDA. This lab will focus on data cleaning and wrangling from everything we noticed before.\n",
    "\n",
    "We will start with removing outliers. So far, we have discussed different methods to remove outliers. Use the one you feel more comfortable with, define a function for that. Use the function to remove the outliers and apply it to the dataframe.\n",
    "Create a copy of the dataframe for the data wrangling.\n",
    "Normalize the continuous variables. You can use any one method you want.\n",
    "Encode the categorical variables\n",
    "The time variable can be useful. Try to transform its data into a useful one. Hint: Day week and month as integers might be useful.\n",
    "Since the model will only accept numerical data, check and make sure that every column is numerical, if some are not, change it using encoding.\n",
    "Hint for Categorical Variables\n",
    "\n",
    "You should deal with the categorical variables as shown below (for ordinal encoding, dummy code has been provided as well):"
   ]
  }
 ],
 "metadata": {
  "kernelspec": {
   "display_name": "Python 3 (ipykernel)",
   "language": "python",
   "name": "python3"
  },
  "language_info": {
   "codemirror_mode": {
    "name": "ipython",
    "version": 3
   },
   "file_extension": ".py",
   "mimetype": "text/x-python",
   "name": "python",
   "nbconvert_exporter": "python",
   "pygments_lexer": "ipython3",
   "version": "3.11.3"
  }
 },
 "nbformat": 4,
 "nbformat_minor": 5
}
